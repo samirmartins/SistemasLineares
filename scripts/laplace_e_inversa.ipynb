{
 "cells": [
  {
   "cell_type": "markdown",
   "id": "16249836",
   "metadata": {},
   "source": [
    "# Exemplo - cômputo da transformada de Laplace e de sua inversa utilizando computadores"
   ]
  },
  {
   "cell_type": "code",
   "execution_count": null,
   "id": "e63ec47d",
   "metadata": {},
   "outputs": [],
   "source": [
    "from sympy import symbols, laplace_transform, inverse_laplace_transform\n",
    "\n",
    "# Definindo os símbolos\n",
    "t, s = symbols('t s')\n",
    "\n",
    "# Definindo o sinal f(t)\n",
    "ft = t**2\n",
    "\n",
    "# Calculando a Transformada de Laplace direta\n",
    "F_s = laplace_transform(ft, t, s)\n",
    "print('Transformada de Laplace direta:')\n",
    "print(F_s)\n",
    "\n",
    "# Calculando a Transformada de Laplace inversa\n",
    "f_t = inverse_laplace_transform(F_s[0], s, t)\n",
    "print('Transformada de Laplace inversa:')\n",
    "print(f_t)"
   ]
  }
 ],
 "metadata": {
  "kernelspec": {
   "display_name": "Python 3 (ipykernel)",
   "language": "python",
   "name": "python3"
  },
  "language_info": {
   "codemirror_mode": {
    "name": "ipython",
    "version": 3
   },
   "file_extension": ".py",
   "mimetype": "text/x-python",
   "name": "python",
   "nbconvert_exporter": "python",
   "pygments_lexer": "ipython3",
   "version": "3.9.7"
  }
 },
 "nbformat": 4,
 "nbformat_minor": 5
}
