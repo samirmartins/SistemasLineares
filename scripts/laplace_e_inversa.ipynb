{
 "cells": [
  {
   "cell_type": "markdown",
   "id": "1bfea7f2",
   "metadata": {},
   "source": [
    "# Exemplo - cômputo da transformada de Laplace e de sua inversa utilizando computadores"
   ]
  },
  {
   "cell_type": "code",
   "execution_count": 9,
   "id": "2c5d0e8a",
   "metadata": {},
   "outputs": [
    {
     "name": "stdout",
     "output_type": "stream",
     "text": [
      "\n",
      "Transformada de Laplace direta:\n",
      "F(s)=2/s**3\n",
      "\n",
      "Transformada de Laplace inversa:\n",
      "f(t)=t**2*Heaviside(t)\n"
     ]
    }
   ],
   "source": [
    "from sympy import symbols, laplace_transform, inverse_laplace_transform\n",
    "\n",
    "# Definindo os símbolos\n",
    "t, s = symbols('t s')\n",
    "\n",
    "# Definindo o sinal f(t)\n",
    "ft = t**2\n",
    "\n",
    "# Calculando a Transformada de Laplace direta\n",
    "F_s = laplace_transform(ft, t, s)\n",
    "print('\\nTransformada de Laplace direta:')\n",
    "print(f'F(s)={F_s[0]}')\n",
    "\n",
    "# Calculando a Transformada de Laplace inversa\n",
    "f_t = inverse_laplace_transform(F_s[0], s, t)\n",
    "print('\\nTransformada de Laplace inversa:')\n",
    "print(f'f(t)={f_t}')"
   ]
  }
 ],
 "metadata": {
  "kernelspec": {
   "display_name": "Python 3 (ipykernel)",
   "language": "python",
   "name": "python3"
  },
  "language_info": {
   "codemirror_mode": {
    "name": "ipython",
    "version": 3
   },
   "file_extension": ".py",
   "mimetype": "text/x-python",
   "name": "python",
   "nbconvert_exporter": "python",
   "pygments_lexer": "ipython3",
   "version": "3.9.7"
  }
 },
 "nbformat": 4,
 "nbformat_minor": 5
}
